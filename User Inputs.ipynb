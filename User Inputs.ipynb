{
 "cells": [
  {
   "cell_type": "code",
   "execution_count": 20,
   "metadata": {},
   "outputs": [
    {
     "name": "stdout",
     "output_type": "stream",
     "text": [
      "0              Acai\n",
      "1         Artichoke\n",
      "2           Arugula\n",
      "3         Asparagus\n",
      "4         Aubergine\n",
      "          ...      \n",
      "65    Turnip Greens\n",
      "66          Turnips\n",
      "67           Wasabi\n",
      "68    Winter Squash\n",
      "69         Zucchini\n",
      "Name: Vegetables, Length: 70, dtype: object\n",
      "0                Nut and seed\n",
      "1                       Fruit\n",
      "2                       Fruit\n",
      "3                   Vegetable\n",
      "4                   Vegetable\n",
      "                ...          \n",
      "180    Cereal grain and pulse\n",
      "181                     Dairy\n",
      "182    Cereal grain and pulse\n",
      "183                 Vegetable\n",
      "184                     Dairy\n",
      "Name: Type, Length: 163, dtype: object\n",
      "TYPE:  <class 'pandas.core.series.Series'>\n",
      "0          Almond\n",
      "1           Apple\n",
      "2         Apricot\n",
      "3       Artichoke\n",
      "4       Asparagus\n",
      "          ...    \n",
      "180         Wheat\n",
      "181          Whey\n",
      "182    White bean\n",
      "183           Yam\n",
      "184       Yogurt \n",
      "Name: Food, Length: 163, dtype: object\n",
      "FOOD:  <class 'pandas.core.series.Series'>\n",
      "0                             Nut Allergy\n",
      "1                   Oral Allergy Syndrome\n",
      "2                     Stone Fruit Allergy\n",
      "3                         Insulin Allergy\n",
      "4                          Allium Allergy\n",
      "                      ...                \n",
      "180                        Gluten Allergy\n",
      "181    Milk allergy / Lactose intolerance\n",
      "182                        Legume Allergy\n",
      "183                        Potato Allergy\n",
      "184    Milk allergy / Lactose intolerance\n",
      "Name: Allergy, Length: 163, dtype: object\n",
      "ALLERGY:  <class 'pandas.core.series.Series'>\n"
     ]
    }
   ],
   "source": [
    "import os\n",
    "os.chdir('C:\\\\Users\\\\asus\\\\OneDrive\\\\Documenti\\\\University Docs\\\\MSc Computing\\\\Final Project\\\\RainbowFood(JN)\\\\Rainbow-Food-Collaborative-Filtering-')\n",
    "\n",
    "import pandas as pd\n",
    "\n",
    "# vegetables file\n",
    "col_list_veg = [\"Vegetables\", \"Serving\", \"Calories\"]\n",
    "df_veg = pd.read_csv(\"Vegetables.csv\", usecols = col_list_veg)\n",
    "print(df_veg[\"Vegetables\"])\n",
    "type(df_veg[\"Vegetables\"])\n",
    "\n",
    "# allergies file\n",
    "col_list_all = [\"Class\", \"Type\", \"Group\", \"Food\", \"Allergy\"]\n",
    "df_all = pd.read_csv(\"FoodAllergies.csv\", usecols = col_list_all)\n",
    "# got rid of the Nan values because it considered as it was float instead of string (could not apply lower case)\n",
    "df_all.dropna(inplace = True)\n",
    "print(df_all[\"Type\"])\n",
    "print(\"TYPE: \", type(df_all[\"Type\"]))\n",
    "print(df_all[\"Food\"])\n",
    "print(\"FOOD: \", type(df_all[\"Food\"]))\n",
    "print(df_all[\"Allergy\"])\n",
    "print(\"ALLERGY: \", type(df_all[\"Allergy\"]))"
   ]
  },
  {
   "cell_type": "code",
   "execution_count": 21,
   "metadata": {},
   "outputs": [
    {
     "name": "stdout",
     "output_type": "stream",
     "text": [
      "This is the veg column\n",
      " ['acai', 'artichoke', 'arugula', 'asparagus', 'aubergine', 'avocado', 'beetroot', 'bell pepper', 'black olives', 'broccoli', 'brussels sprouts', 'cabbage', 'capsicum', 'carrot', 'cauliflower', 'celeriac', 'celery', 'chard', 'cherry tomato', 'chickpeas', 'chicory', 'chinese cabbage', 'chives', 'coleslaw', 'collard greens', 'corn', 'courgette', 'creamed spinach', 'cucumber', 'eggplant', 'endive', 'fennel', 'garlic', 'gherkin', 'gourd', 'green beans', 'green olives', 'green onion', 'horseradish', 'kale', 'kohlrabi', 'kumara', 'leek', 'lettuce', 'mushrooms', 'mustard greens', 'nori', 'okra', 'olives', 'onion', 'pak choy', 'parsnips', 'peas', 'pepper', 'potato', 'pumpkin', 'radishes', 'red cabbage', 'rutabaga', 'shallots', 'spinach', 'squash', 'swede', 'sweet potato', 'tomato', 'turnip greens', 'turnips', 'wasabi', 'winter squash', 'zucchini']\n",
      "\t\n",
      "This is the food column \n",
      " ['almond', 'apple', 'apricot', 'artichoke', 'asparagus', 'avocado', 'bamboo shoot', 'banana', 'barley', 'bean', 'blackberry', 'black-eyed bean', 'blueberry', 'bonito', 'broad bean', 'broccoli', 'brussels sprouts', 'buckwheat', 'burdock', 'butter', 'butter bean', 'buttermilk', 'button mushroom', 'cabbage', 'carrot', 'casein', 'cashew', 'cattle', 'cauliflower', 'celery', 'cheese', 'cherry', 'chestnut', 'chicken', 'chicory', 'chinese cabbage', 'coffee bean', 'corn', 'cotton seed', 'cranberry', 'cream', 'crustaceans', 'custard', 'date', 'deer', 'duck', 'eel', 'egg plant', 'eggs', 'endive', 'fructose', 'garlic', 'ginger', 'ginkgo nut', 'globfish', 'glucose', 'goat', 'grape', 'grapefruit', 'green soybean', 'guava', 'honey', 'hop', 'horse', 'horse mackerel', 'horseradish', 'huckleberry', 'ice cream', 'japanese pear', 'japanese plum', 'kale', 'kidney bean', 'kiwi', 'konjac', 'kyona', 'lactose', 'leek', 'lemon', 'lentil', 'lettuce ', 'lima bean', 'lime', 'loquat', 'mackerel', 'mango', 'milk', 'mineral water', 'mitsuba', 'mume plum', 'mustard spinach', 'nectarine', 'nira', 'okra', 'onion', 'orange', 'orange pulp', 'papaya', 'parsley', 'parsnip', 'passion fruit', 'peach', 'peanut', 'pear', 'peas', 'peas', 'pecan', 'pegia', 'peppermint', 'percifomes', 'pig', 'pineapple', 'popcorn', 'potato', 'prune', 'qing-geng-cai', 'quince', 'radish root', 'rapeseed', 'raspberry', 'rice', 'royal jelly', 'rye', 'safflower seed', 'salmon', 'salsify', 'sansho', 'sea bass', 'sea bream', 'sesame seed', 'shallot', 'sheep', 'shelled mollusc', 'shiitake  mushroom', 'shungiku', 'sour cream', 'soybean', 'spearmint', 'spinach', 'strawberry', 'sugar', 'sugar beet', 'sugarcane', 'sultani', 'sultapya', 'sunflower seed', 'sweet corn', 'sweet pepper', 'sweet potato', 'taro', 'tea', 'tetraodontiformes', 'tomato', 'trout', 'tuna', 'turkey', 'turnip root', 'walnut', 'welsh', 'wheat', 'whey', 'white bean', 'yam', 'yogurt ']\n",
      "\t\n",
      "<class 'list'>\n",
      "This is the allergy column \n",
      " ['nut allergy', 'oral allergy syndrome', 'stone fruit allergy', 'insulin allergy', 'allium allergy', 'oral allergy syndrome', 'histamine allergy', 'banana allergy', 'gluten allergy', 'legume allergy', 'salicylate allergy', 'legume allergy', 'salicylate allergy', 'histamine allergy', 'legume allergy', 'broccoli allergy', 'cruciferous allergy', 'gluten allergy', 'ragweed allergy', 'milk allergy / lactose intolerance', 'legume allergy', 'milk allergy / lactose intolerance', 'mushroom allergy', 'cruciferous allergy', 'hypersensitivity', 'milk allergy / lactose intolerance', 'nut allergy', 'alpha-gal syndrome', 'cruciferous allergy', 'hypersensitivity', 'milk allergy / lactose intolerance', 'stone fruit allergy', 'nut allergy', 'poultry allergy', 'insulin allergy', 'cruciferous allergy', 'ochratoxin allergy', 'corn allergy', 'seed allergy', 'salicylate allergy', 'milk allergy / lactose intolerance', 'shellfish allergy', 'milk allergy / lactose intolerance', 'oral allergy syndrome', 'alpha-gal syndrome', 'poultry allergy', 'fish allergy', 'nightshade allergy', 'poultry allergy', 'insulin allergy', 'sugar allergy / intolerance', 'allium allergy', 'histamine allergy', 'nut allergy', 'fish allergy', 'sugar allergy / intolerance', 'alpha-gal syndrome', 'ltp allergy', 'citrus allergy', 'legume allergy', 'oral allergy syndrome', 'honey allergy', 'beer allergy', 'alpha-gal syndrome', 'fish allergy', 'cruciferous allergy', 'salicylate allergy', 'milk allergy / lactose intolerance', 'oral allergy syndrome', 'stone fruit allergy', 'cruciferous allergy', 'legume allergy', 'oral allergy syndrome', 'potato allergy', 'cruciferous allergy', 'lactose intolerance', 'allium allergy', 'citrus allergy', 'legume allergy', 'ltp allergy', 'legume allergy', 'citrus allergy', 'oral allergy syndrome', 'fish allergy', 'oral allergy syndrome', 'milk allergy / lactose intolerance', 'aquagenic urticaria', 'hypersensitivity', 'stone fruit allergy', 'cruciferous allergy', 'stone fruit allergy', 'allium allergy', 'histamine allergy', 'allium allergy', 'citrus allergy', 'citrus allergy', 'oral allergy syndrome', 'hypersensitivity', 'hypersensitivity', 'oral allergy syndrome', 'stone fruit allergy', 'peanut allergy', 'oral allergy syndrome', 'legume allergy', 'legume allergy', 'nut allergy', 'legume allergy', 'mint allergy', 'fish allergy', 'alpha-gal syndrome', 'oral allergy syndrome', 'corn allergy', 'potato allergy', 'stone fruit allergy', 'cruciferous allergy', 'oral allergy syndrome', 'hypersensitivity', 'seed allergy', 'salicylate allergy', 'rice allergy', 'honey allergy', 'gluten allergy', 'seed allergy', 'fish allergy', 'insulin allergy', 'pepper allergy', 'fish allergy', 'fish allergy', 'seed allergy', 'allium allergy', 'alpha-gal syndrome', 'fish allergy', 'mushroom allergy', 'insulin allergy', 'milk allergy / lactose intolerance', 'soy allergy', 'mint allergy', 'histamine allergy', 'salicylate allergy', 'sugar allergy / intolerance', 'sugar allergy / intolerance', 'sugar allergy / intolerance', 'legume allergy', 'legume allergy', 'seed allergy', 'corn allergy', 'nightshade allergy', 'potato allergy', 'potato allergy', 'tannin allergy', 'fish allergy', 'nightshade allergy', 'fish allergy', 'fish allergy', 'poultry allergy', 'thyroid', 'nut allergy', 'allium allergy', 'gluten allergy', 'milk allergy / lactose intolerance', 'legume allergy', 'potato allergy', 'milk allergy / lactose intolerance']\n",
      "\t\n",
      "This is the allergy list \n",
      " ['nut allergy', 'oral allergy syndrome', 'stone fruit allergy', 'insulin allergy', 'allium allergy', 'histamine allergy', 'banana allergy', 'gluten allergy', 'legume allergy', 'salicylate allergy', 'broccoli allergy', 'cruciferous allergy', 'ragweed allergy', 'milk allergy / lactose intolerance', 'mushroom allergy', 'hypersensitivity', 'alpha-gal syndrome', 'poultry allergy', 'ochratoxin allergy', 'corn allergy', 'seed allergy', 'shellfish allergy', 'fish allergy', 'nightshade allergy', 'sugar allergy / intolerance', 'ltp allergy', 'citrus allergy', 'honey allergy', 'beer allergy', 'potato allergy', 'lactose intolerance', 'aquagenic urticaria', 'peanut allergy', 'mint allergy', 'rice allergy', 'pepper allergy', 'soy allergy', 'tannin allergy', 'thyroid']\n",
      "\t\n"
     ]
    }
   ],
   "source": [
    "# LISTS\n",
    "\n",
    "# veggies from Veg file\n",
    "# veg column\n",
    "veg_column = df_veg[\"Vegetables\"].tolist()\n",
    "\n",
    "# lower case applied\n",
    "for x in range(len(veg_column)):\n",
    "    veg_column[x] = veg_column[x].lower()\n",
    "#veg_column = [each_string.lower() for each_string in veg_column]\n",
    "print(\"This is the veg column\\n\", veg_column)\n",
    "print(\"\\t\")\n",
    "\n",
    "# food from allergies file\n",
    "# food column\n",
    "food_column = df_all[\"Food\"].tolist()\n",
    "\n",
    "# lower case applied\n",
    "food_column = [each_string.lower() for each_string in food_column]\n",
    "print(\"This is the food column \\n\" , food_column)\n",
    "print(\"\\t\")\n",
    "\n",
    "# allergy column\n",
    "all_column = df_all[\"Allergy\"].tolist()\n",
    "print(type(all_column))\n",
    "\n",
    "# lower case applied\n",
    "all_column = [each_string.lower() for each_string in all_column]\n",
    "print(\"This is the allergy column \\n\", all_column)\n",
    "print(\"\\t\")\n",
    "\n",
    "# allergy list (no duplicates)\n",
    "all_list = []\n",
    "for x in all_column:\n",
    "    if x not in all_list:\n",
    "        all_list.append(x)\n",
    "for x in all_list:\n",
    "    x\n",
    "print(\"This is the allergy list \\n\", all_list)\n",
    "print(\"\\t\")\n",
    "\n",
    "\n"
   ]
  },
  {
   "cell_type": "code",
   "execution_count": 22,
   "metadata": {},
   "outputs": [
    {
     "name": "stdout",
     "output_type": "stream",
     "text": [
      "This is the food and allergens dictionary \n",
      " {'almond': 'nut allergy', 'apple': 'oral allergy syndrome', 'apricot': 'stone fruit allergy', 'artichoke': 'insulin allergy', 'asparagus': 'allium allergy', 'avocado': 'oral allergy syndrome', 'bamboo shoot': 'histamine allergy', 'banana': 'banana allergy', 'barley': 'gluten allergy', 'bean': 'legume allergy', 'blackberry': 'salicylate allergy', 'black-eyed bean': 'legume allergy', 'blueberry': 'salicylate allergy', 'bonito': 'histamine allergy', 'broad bean': 'legume allergy', 'broccoli': 'broccoli allergy', 'brussels sprouts': 'cruciferous allergy', 'buckwheat': 'gluten allergy', 'burdock': 'ragweed allergy', 'butter': 'milk allergy / lactose intolerance', 'butter bean': 'legume allergy', 'buttermilk': 'milk allergy / lactose intolerance', 'button mushroom': 'mushroom allergy', 'cabbage': 'cruciferous allergy', 'carrot': 'hypersensitivity', 'casein': 'milk allergy / lactose intolerance', 'cashew': 'nut allergy', 'cattle': 'alpha-gal syndrome', 'cauliflower': 'cruciferous allergy', 'celery': 'hypersensitivity', 'cheese': 'milk allergy / lactose intolerance', 'cherry': 'stone fruit allergy', 'chestnut': 'nut allergy', 'chicken': 'poultry allergy', 'chicory': 'insulin allergy', 'chinese cabbage': 'cruciferous allergy', 'coffee bean': 'ochratoxin allergy', 'corn': 'corn allergy', 'cotton seed': 'seed allergy', 'cranberry': 'salicylate allergy', 'cream': 'milk allergy / lactose intolerance', 'crustaceans': 'shellfish allergy', 'custard': 'milk allergy / lactose intolerance', 'date': 'oral allergy syndrome', 'deer': 'alpha-gal syndrome', 'duck': 'poultry allergy', 'eel': 'fish allergy', 'egg plant': 'nightshade allergy', 'eggs': 'poultry allergy', 'endive': 'insulin allergy', 'fructose': 'sugar allergy / intolerance', 'garlic': 'allium allergy', 'ginger': 'histamine allergy', 'ginkgo nut': 'nut allergy', 'globfish': 'fish allergy', 'glucose': 'sugar allergy / intolerance', 'goat': 'alpha-gal syndrome', 'grape': 'ltp allergy', 'grapefruit': 'citrus allergy', 'green soybean': 'legume allergy', 'guava': 'oral allergy syndrome', 'honey': 'honey allergy', 'hop': 'beer allergy', 'horse': 'alpha-gal syndrome', 'horse mackerel': 'fish allergy', 'horseradish': 'cruciferous allergy', 'huckleberry': 'salicylate allergy', 'ice cream': 'milk allergy / lactose intolerance', 'japanese pear': 'oral allergy syndrome', 'japanese plum': 'stone fruit allergy', 'kale': 'cruciferous allergy', 'kidney bean': 'legume allergy', 'kiwi': 'oral allergy syndrome', 'konjac': 'potato allergy', 'kyona': 'cruciferous allergy', 'lactose': 'lactose intolerance', 'leek': 'allium allergy', 'lemon': 'citrus allergy', 'lentil': 'legume allergy', 'lettuce ': 'ltp allergy', 'lima bean': 'legume allergy', 'lime': 'citrus allergy', 'loquat': 'oral allergy syndrome', 'mackerel': 'fish allergy', 'mango': 'oral allergy syndrome', 'milk': 'milk allergy / lactose intolerance', 'mineral water': 'aquagenic urticaria', 'mitsuba': 'hypersensitivity', 'mume plum': 'stone fruit allergy', 'mustard spinach': 'cruciferous allergy', 'nectarine': 'stone fruit allergy', 'nira': 'allium allergy', 'okra': 'histamine allergy', 'onion': 'allium allergy', 'orange': 'citrus allergy', 'orange pulp': 'citrus allergy', 'papaya': 'oral allergy syndrome', 'parsley': 'hypersensitivity', 'parsnip': 'hypersensitivity', 'passion fruit': 'oral allergy syndrome', 'peach': 'stone fruit allergy', 'peanut': 'peanut allergy', 'pear': 'oral allergy syndrome', 'peas': 'legume allergy', 'pecan': 'nut allergy', 'pegia': 'legume allergy', 'peppermint': 'mint allergy', 'percifomes': 'fish allergy', 'pig': 'alpha-gal syndrome', 'pineapple': 'oral allergy syndrome', 'popcorn': 'corn allergy', 'potato': 'potato allergy', 'prune': 'stone fruit allergy', 'qing-geng-cai': 'cruciferous allergy', 'quince': 'oral allergy syndrome', 'radish root': 'hypersensitivity', 'rapeseed': 'seed allergy', 'raspberry': 'salicylate allergy', 'rice': 'rice allergy', 'royal jelly': 'honey allergy', 'rye': 'gluten allergy', 'safflower seed': 'seed allergy', 'salmon': 'fish allergy', 'salsify': 'insulin allergy', 'sansho': 'pepper allergy', 'sea bass': 'fish allergy', 'sea bream': 'fish allergy', 'sesame seed': 'seed allergy', 'shallot': 'allium allergy', 'sheep': 'alpha-gal syndrome', 'shelled mollusc': 'fish allergy', 'shiitake  mushroom': 'mushroom allergy', 'shungiku': 'insulin allergy', 'sour cream': 'milk allergy / lactose intolerance', 'soybean': 'soy allergy', 'spearmint': 'mint allergy', 'spinach': 'histamine allergy', 'strawberry': 'salicylate allergy', 'sugar': 'sugar allergy / intolerance', 'sugar beet': 'sugar allergy / intolerance', 'sugarcane': 'sugar allergy / intolerance', 'sultani': 'legume allergy', 'sultapya': 'legume allergy', 'sunflower seed': 'seed allergy', 'sweet corn': 'corn allergy', 'sweet pepper': 'nightshade allergy', 'sweet potato': 'potato allergy', 'taro': 'potato allergy', 'tea': 'tannin allergy', 'tetraodontiformes': 'fish allergy', 'tomato': 'nightshade allergy', 'trout': 'fish allergy', 'tuna': 'fish allergy', 'turkey': 'poultry allergy', 'turnip root': 'thyroid', 'walnut': 'nut allergy', 'welsh': 'allium allergy', 'wheat': 'gluten allergy', 'whey': 'milk allergy / lactose intolerance', 'white bean': 'legume allergy', 'yam': 'potato allergy', 'yogurt ': 'milk allergy / lactose intolerance'}\n"
     ]
    }
   ],
   "source": [
    "# dictionary food - allergy type\n",
    "zip_iterator = zip(food_column, all_column)\n",
    "food_all_dict = dict(zip_iterator)\n",
    "print(\"This is the food and allergens dictionary \\n\", food_all_dict)"
   ]
  },
  {
   "cell_type": "code",
   "execution_count": 4,
   "metadata": {},
   "outputs": [
    {
     "name": "stdout",
     "output_type": "stream",
     "text": [
      "Enter 3 veggies: \n",
      "1 Olives\n",
      "2 Broccoli\n",
      "3 Brussels Sprouts\n",
      "You've entered:  ['Olives', 'Broccoli', 'Brussels Sprouts']\n",
      "veg:  Olives\n",
      "Got it\n",
      "veg:  Broccoli\n",
      "Got it\n",
      "veg:  Brussels Sprouts\n",
      "Got it\n"
     ]
    }
   ],
   "source": [
    "print(\"Enter 3 veggies: \")\n",
    "mylist = []\n",
    "for x in range(1,4):\n",
    "    basket = input(\"%d \" % x)\n",
    "    mylist.append(basket.title())\n",
    "print(\"You've entered: \", mylist)\n",
    "for veg in mylist:\n",
    "    print(\"veg: \", veg)\n",
    "    if veg in veg_column:\n",
    "        print(\"Got it\")\n",
    "    else:\n",
    "        print(\"we don't have it\")"
   ]
  },
  {
   "cell_type": "code",
   "execution_count": 5,
   "metadata": {},
   "outputs": [
    {
     "name": "stdout",
     "output_type": "stream",
     "text": [
      "Olives grams IDK\n",
      "Please, use numbers in grams only\n",
      "Olives grams 200\n",
      "Broccoli grams 300\n",
      "Brussels Sprouts grams 123.45\n",
      "{'Olives': '200', 'Broccoli': '300', 'Brussels Sprouts': '123.45'}\n"
     ]
    }
   ],
   "source": [
    "# add quantity to my veg list\n",
    "veg_quantity = {}\n",
    "\n",
    "# For every vegetable...\n",
    "for x in mylist:\n",
    "    \n",
    "    # Ask for the quantity, until it's correct\n",
    "    while True:\n",
    "        # Quantity?\n",
    "        quantity = input(\"%s grams \" % x)\n",
    "        \n",
    "        # Is it an integer?\n",
    "        try:\n",
    "            int(quantity)\n",
    "            break\n",
    "        # No...\n",
    "        except ValueError:\n",
    "            \n",
    "            # Is it a float?\n",
    "            try:\n",
    "                float(quantity)\n",
    "                break\n",
    "                \n",
    "            # No...\n",
    "            except ValueError:\n",
    "                print(\"Please, use numbers in grams only\")\n",
    "    \n",
    "    # If it's valid, add it\n",
    "    veg_quantity[x] = quantity\n",
    "\n",
    "print(veg_quantity)"
   ]
  },
  {
   "cell_type": "code",
   "execution_count": 11,
   "metadata": {},
   "outputs": [
    {
     "name": "stderr",
     "output_type": "stream",
     "text": [
      "[nltk_data] Downloading package wordnet to\n",
      "[nltk_data]     C:\\Users\\asus\\AppData\\Roaming\\nltk_data...\n",
      "[nltk_data]   Package wordnet is already up-to-date!\n"
     ]
    }
   ],
   "source": [
    "# NLP\n",
    "# stemming\n",
    "#from nltk.stem import PorterStemmer\n",
    "#from nltk.tokenize import word_tokenize\n",
    "#ps = PorterStemmer()\n",
    "\n",
    "# lemmatising\n",
    "import nltk\n",
    "nltk.download('wordnet')\n",
    "from nltk.stem import WordNetLemmatizer\n",
    "lemmatizer = WordNetLemmatizer()"
   ]
  },
  {
   "cell_type": "code",
   "execution_count": 24,
   "metadata": {},
   "outputs": [
    {
     "name": "stdout",
     "output_type": "stream",
     "text": [
      "Any allergies or intolerances? Please enter them here or leave it blank. \n",
      "Please, specify if you have allergy or intolerance for generic terms \n",
      "(e.g. 'nut allergy', 'gluten allergy', but not for 'strawberry' or 'strawberries'): \n",
      "fish\n",
      "fish allergy\n",
      "nut allergy\n",
      "cashew\n",
      "kiwi\n",
      "strawberry\n",
      "strawberries\n",
      "lactose intolerance\n",
      "gluten allergy\n",
      "\n",
      "fish , got it, I will update my database\n",
      "You said:  fish allergy\n",
      "You said:  nut allergy\n",
      "You said:  cashew\n",
      "You said:  kiwi\n",
      "You said:  strawberry\n",
      "You said:  strawberry\n",
      "You said:  lactose intolerance\n",
      "You said:  gluten allergy\n"
     ]
    }
   ],
   "source": [
    "print(\"Any allergies or intolerances? Please enter them here or leave it blank. \\nPlease, specify if you have allergy or intolerance for generic terms \\n(e.g. 'nut allergy', 'gluten allergy', but not for 'strawberry' or 'strawberries'): \")\n",
    "\n",
    "# add allergies in the list\n",
    "myallergies = []\n",
    "\n",
    "# empty basket to break\n",
    "basket = \" \"\n",
    "\n",
    "# indefinite iteration over not empty basket\n",
    "while basket != \"\":\n",
    "    \n",
    "    # over input\n",
    "    basket = input()\n",
    "    \n",
    "    # if input = num\n",
    "    if basket.isnumeric() == True:\n",
    "        \n",
    "        # then print you don't want num \n",
    "        print(\"No numbers, please\")\n",
    "        \n",
    "    # otherwise if it's a word \n",
    "    elif basket.isnumeric() == False: \n",
    "        \n",
    "        # and the basket is not empty\n",
    "        if basket != \"\":\n",
    "            \n",
    "            # append allergies to my list\n",
    "            myallergies.append(basket)\n",
    "\n",
    "# empty list for singular words            \n",
    "sing = []\n",
    "\n",
    "# for all the user inputs\n",
    "for w in myallergies:\n",
    "    \n",
    "    # append lemmatised words\n",
    "    sing.append(lemmatizer.lemmatize(w))\n",
    "\n",
    "#check if user inputs are in my dict\n",
    "for al in sing:\n",
    "    if al in food_all_dict.keys() or al in food_all_dict.values():\n",
    "        print(\"You said: \", al)\n",
    "    else:\n",
    "        print(al, \", got it, I will update my database\")\n",
    "    "
   ]
  },
  {
   "cell_type": "code",
   "execution_count": null,
   "metadata": {},
   "outputs": [],
   "source": []
  },
  {
   "cell_type": "code",
   "execution_count": null,
   "metadata": {},
   "outputs": [],
   "source": []
  },
  {
   "cell_type": "code",
   "execution_count": null,
   "metadata": {},
   "outputs": [],
   "source": []
  }
 ],
 "metadata": {
  "kernelspec": {
   "display_name": "Python 3",
   "language": "python",
   "name": "python3"
  },
  "language_info": {
   "codemirror_mode": {
    "name": "ipython",
    "version": 3
   },
   "file_extension": ".py",
   "mimetype": "text/x-python",
   "name": "python",
   "nbconvert_exporter": "python",
   "pygments_lexer": "ipython3",
   "version": "3.7.6"
  }
 },
 "nbformat": 4,
 "nbformat_minor": 4
}
