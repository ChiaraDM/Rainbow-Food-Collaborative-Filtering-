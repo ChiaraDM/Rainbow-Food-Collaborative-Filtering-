{
 "cells": [
  {
   "cell_type": "code",
   "execution_count": 43,
   "metadata": {},
   "outputs": [],
   "source": [
    "import os\n",
    "os.chdir('C:\\\\Users\\\\asus\\\\OneDrive\\\\Documenti\\\\University Docs\\\\MSc Computing\\\\Final Project\\\\RainbowFood(JN)\\\\Rainbow-Food-Collaborative-Filtering-')\n",
    "\n",
    "import pandas as pd\n",
    "\n",
    "# vegetables file\n",
    "col_list_veg = [\"Vegetables\", \"Serving\", \"Calories\"]\n",
    "df_veg = pd.read_csv(\"Vegetables.csv\", usecols = col_list_veg)\n",
    "#print(df_veg[\"Vegetables\"])\n",
    "#type(df_veg[\"Vegetables\"])\n",
    "\n",
    "# allergies file\n",
    "col_list_all = [\"Class\", \"Type\", \"Group\", \"Food\", \"Allergy\"]\n",
    "df_all = pd.read_csv(\"FoodAllergies.csv\", usecols = col_list_all)\n",
    "# got rid of the Nan values because it considered as it was float instead of string (could not apply lower case)\n",
    "df_all.dropna(inplace = True)\n",
    "#print(df_all[\"Type\"])\n",
    "#print(\"TYPE: \", type(df_all[\"Type\"]))\n",
    "#print(df_all[\"Food\"])\n",
    "#print(\"FOOD: \", type(df_all[\"Food\"]))\n",
    "#print(df_all[\"Allergy\"])\n",
    "#print(\"ALLERGY: \", type(df_all[\"Allergy\"]))\n",
    "\n",
    "# recipe file\n",
    "col_list_rec = ['Link', 'Title', 'Total Time', 'Servings', 'Ingredients', 'Instructions']\n",
    "df_rec = pd.read_csv(\"Recipes.csv\", usecols = col_list_rec)\n",
    "#print(df_rec['Title'])\n",
    "#print(df_rec['Ingredients'])\n"
   ]
  },
  {
   "cell_type": "code",
   "execution_count": 115,
   "metadata": {},
   "outputs": [
    {
     "name": "stdout",
     "output_type": "stream",
     "text": [
      "This is the veg column\n",
      " ['acai', 'artichoke', 'arugula', 'asparagus', 'aubergine', 'avocado', 'beetroot', 'bell pepper', 'black olives', 'broccoli', 'brussels sprouts', 'cabbage', 'capsicum', 'carrot', 'cauliflower', 'celeriac', 'celery', 'chard', 'cherry tomato', 'chickpeas', 'chicory', 'chinese cabbage', 'chives', 'coleslaw', 'collard greens', 'corn', 'courgette', 'creamed spinach', 'cucumber', 'eggplant', 'endive', 'fennel', 'garlic', 'gherkin', 'gourd', 'green beans', 'green olives', 'green onion', 'horseradish', 'kale', 'kohlrabi', 'kumara', 'leek', 'lettuce', 'mushrooms', 'mustard greens', 'nori', 'okra', 'olives', 'onion', 'pak choy', 'parsnips', 'peas', 'pepper', 'potato', 'pumpkin', 'radishes', 'red cabbage', 'rutabaga', 'shallots', 'spinach', 'squash', 'swede', 'sweet potato', 'tomato', 'turnip greens', 'turnips', 'wasabi', 'winter squash', 'zucchini']\n",
      "<class 'list'>\n",
      "This is the allergy column \n",
      " ['nut allergy', 'oral allergy syndrome', 'stone fruit allergy', 'insulin allergy', 'allium allergy', 'oral allergy syndrome', 'histamine allergy', 'banana allergy', 'gluten allergy', 'legume allergy', 'salicylate allergy', 'legume allergy', 'salicylate allergy', 'histamine allergy', 'legume allergy', 'broccoli allergy', 'cruciferous allergy', 'gluten allergy', 'ragweed allergy', 'milk allergy / lactose intolerance', 'legume allergy', 'milk allergy / lactose intolerance', 'mushroom allergy', 'cruciferous allergy', 'hypersensitivity', 'milk allergy / lactose intolerance', 'nut allergy', 'alpha-gal syndrome', 'cruciferous allergy', 'hypersensitivity', 'milk allergy / lactose intolerance', 'stone fruit allergy', 'nut allergy', 'poultry allergy', 'insulin allergy', 'cruciferous allergy', 'ochratoxin allergy', 'corn allergy', 'seed allergy', 'salicylate allergy', 'milk allergy / lactose intolerance', 'shellfish allergy', 'milk allergy / lactose intolerance', 'oral allergy syndrome', 'alpha-gal syndrome', 'poultry allergy', 'fish allergy', 'nightshade allergy', 'poultry allergy', 'insulin allergy', 'sugar allergy / intolerance', 'allium allergy', 'histamine allergy', 'nut allergy', 'fish allergy', 'sugar allergy / intolerance', 'alpha-gal syndrome', 'ltp allergy', 'citrus allergy', 'legume allergy', 'oral allergy syndrome', 'honey allergy', 'beer allergy', 'alpha-gal syndrome', 'fish allergy', 'cruciferous allergy', 'salicylate allergy', 'milk allergy / lactose intolerance', 'oral allergy syndrome', 'stone fruit allergy', 'cruciferous allergy', 'legume allergy', 'oral allergy syndrome', 'potato allergy', 'cruciferous allergy', 'lactose intolerance', 'allium allergy', 'citrus allergy', 'legume allergy', 'ltp allergy', 'legume allergy', 'citrus allergy', 'oral allergy syndrome', 'fish allergy', 'oral allergy syndrome', 'milk allergy / lactose intolerance', 'aquagenic urticaria', 'hypersensitivity', 'stone fruit allergy', 'cruciferous allergy', 'stone fruit allergy', 'allium allergy', 'histamine allergy', 'allium allergy', 'citrus allergy', 'citrus allergy', 'oral allergy syndrome', 'hypersensitivity', 'hypersensitivity', 'oral allergy syndrome', 'stone fruit allergy', 'peanut allergy', 'oral allergy syndrome', 'legume allergy', 'legume allergy', 'nut allergy', 'legume allergy', 'mint allergy', 'fish allergy', 'alpha-gal syndrome', 'oral allergy syndrome', 'corn allergy', 'potato allergy', 'stone fruit allergy', 'cruciferous allergy', 'oral allergy syndrome', 'hypersensitivity', 'seed allergy', 'salicylate allergy', 'rice allergy', 'honey allergy', 'gluten allergy', 'seed allergy', 'fish allergy', 'insulin allergy', 'pepper allergy', 'fish allergy', 'fish allergy', 'seed allergy', 'allium allergy', 'alpha-gal syndrome', 'fish allergy', 'mushroom allergy', 'insulin allergy', 'milk allergy / lactose intolerance', 'soy allergy', 'mint allergy', 'histamine allergy', 'salicylate allergy', 'sugar allergy / intolerance', 'sugar allergy / intolerance', 'sugar allergy / intolerance', 'legume allergy', 'legume allergy', 'seed allergy', 'corn allergy', 'nightshade allergy', 'potato allergy', 'potato allergy', 'tannin allergy', 'fish allergy', 'nightshade allergy', 'fish allergy', 'fish allergy', 'poultry allergy', 'thyroid', 'nut allergy', 'allium allergy', 'gluten allergy', 'milk allergy / lactose intolerance', 'legume allergy', 'potato allergy', 'milk allergy / lactose intolerance']\n",
      "\t\n",
      "This is the allergy list \n",
      " ['nut allergy', 'oral allergy syndrome', 'stone fruit allergy', 'insulin allergy', 'allium allergy', 'histamine allergy', 'banana allergy', 'gluten allergy', 'legume allergy', 'salicylate allergy', 'broccoli allergy', 'cruciferous allergy', 'ragweed allergy', 'milk allergy / lactose intolerance', 'mushroom allergy', 'hypersensitivity', 'alpha-gal syndrome', 'poultry allergy', 'ochratoxin allergy', 'corn allergy', 'seed allergy', 'shellfish allergy', 'fish allergy', 'nightshade allergy', 'sugar allergy / intolerance', 'ltp allergy', 'citrus allergy', 'honey allergy', 'beer allergy', 'potato allergy', 'lactose intolerance', 'aquagenic urticaria', 'peanut allergy', 'mint allergy', 'rice allergy', 'pepper allergy', 'soy allergy', 'tannin allergy', 'thyroid']\n",
      "\t\n",
      "This is the ingredients list \n",
      " [\"['1 tbsp sesame oil', '1 red onion, finely chopped', '1 garlic clove, crushed', 'thumb-sized piece ginger, peeled and finely chopped', '1 red chilli, finely chopped', '1½ tsp ground turmeric', '1½ tsp ground cumin', '2 sweet potatoes (about 400g/14oz), cut into even chunks', '250g red split lentils', '600ml vegetable stock', '80g bag of spinach', '4 spring onions, sliced on the diagonal, to serve', '½ small pack of Thai basil, leaves torn, to serve']\", \"['500g (5 medium) parsnips , peeled and cut into thumb-sized pieces', '2 ½ tbsp cold pressed rapeseed oil', '1 tsp ground turmeric', '2 tsp ground coriander', '2 tbsp sesame seeds', '130g wild rice', '2 red onions , sliced', '2 tbsp white wine vinegar', '3 tbsp tahini', '1 small pack mint , leaves roughly chopped', '1 small pack coriander , roughly chopped', '2 tbsp pomegranate seeds']\", \"['½ cauliflower , broken into florets, stalk chopped into cubes', '2 tsp olive oil', '100g orzo', '2 tsp capers , drained and rinsed', '1 small garlic clove , sliced', '½ lemon , zested and juiced', '100ml low-salt vegetable stock (check it’s vegan, if required)', 'handful of rocket leaves , to serve']\", \"['1½ tbsp sesame oil', '1 red onion , cut into thin wedges', '160g mangetout', '70g baby corn , halved', '2 baby pak choi , quartered', '3 spring onions , sliced', '1 large garlic clove , crushed', '½ tbsp mild curry powder', '4 tsp low-salt soy sauce', '300g ready-to-cook udon noodles', '1 tbsp pickled sushi ginger , chopped, plus 2 tbsp of the brine']\", \"['400g tomatoes , halved', '1 red onion , quartered', '2 Romano peppers , roughly chopped', '2 tbsp good quality olive oil', '2 garlic cloves , bashed in their skins', 'few thyme sprigs', '1 tbsp red wine vinegar', '2 tbsp ricotta', 'few basil leaves', '1 tbsp mixed seeds , toasted', 'bread , to serve']\", \"['3 large eggs', '50g plain flour', '50ml milk', '4 spring onions , trimmed and sliced', '1 pak choi , sliced', '200g Savoy cabbage , shredded', '1 red chilli , deseeded and finely chopped, plus extra to serve', '½ tbsp low-salt soy sauce', '½ tbsp rapeseed oil', '1 heaped tbsp low-fat mayonnaise', '½ lime , juiced', 'sushi ginger , to serve (optional)', 'wasabi , to serve (optional)']\", \"['350g long grain brown rice', '150g green beans , trimmed and halved', '4 medium eggs', '2 tbsp olive oil', '2 onions , sliced', '2 garlic cloves , crushed', '2 heaped tbsp medium curry powder', '1 tsp ground turmeric', '2 bay leaves', '200g spinach', '100g cherry tomatoes , halved', '½ small bunch coriander , chopped', '1 green chilli , sliced', '1 lemon , cut into wedges']\", \"['60ml olive oil', '2 aubergines , cut into chunks', '1 large onion , finely chopped', '2 garlic cloves , crushed', 'small pack parsley , leaves picked, stalks finely chopped', '2 tsp smoked paprika', '2 tsp turmeric', '400g paella rice', '1 ½l Kallo vegetable stock', '2 x 175g packs chargrilled artichokes', '2 lemons 1 juiced, 1 cut into wedges to serve']\", \"['400g can chopped tomato', '1l vegetable stock', 'knob of butter', '1 tbsp olive oil', '1 onion, finely chopped', '2 garlic cloves, finely chopped', '1 rosemary sprig, finely chopped', '250g risotto rice', '300g cherry tomato, halved', 'small pack basil, roughly torn', '4 tbsp grated parmesan']\", \"['4 tbsp extra virgin olive oil , plus extra to serve', '1 onion , finely chopped', '1 celery stick , cut into chunks', '750g pumpkin or squash, peeled, deseeded and cut into small chunks', '1 carrot , peeled and cut into chunks', '3 garlic cloves , chopped', '3 tbsp tomato purée', '1.2l chicken stock or vegetable stock', '75g farro or mixed grains (such as barley or spelt)', '50-80g parmesan rinds or vegetarian alternative (optional), plus a few shavings to serve', '400g can borlotti beans , drained', '2 handfuls baby spinach', '2 tbsp chopped parsley or 8 whole sage leaves']\", \"['115g wholemeal linguine', '1 lime, zested and juiced', '1 avocado, stoned, peeled, and chopped', '2 large ripe tomatoes, chopped', '½ pack fresh coriander, chopped', '1 red onion, finely chopped', '1 red chilli, deseeded and finely chopped (optional)']\", \"['2 onions, chopped', '2 celery sticks, finely chopped', '2 yellow or orange peppers, finely chopped', '2 tbsp sunflower oil or rapeseed oil', '2 x 460g jars roasted red peppers', '2 tsp chipotle paste', '2 tbsp red wine vinegar', '1 tbsp cocoa powder', '1 tbsp dried oregano', '1 tbsp sweet smoked paprika', '2 tbsp ground cumin', '1 tsp ground cinnamon', '2 x 400g cans chopped tomatoes', '400g can refried beans', '3 x 400g cans kidney beans, drained and rinsed', '2 x 400g cans black beans, drained and rinsed']\", \"['100g gram (chickpea) flour', '1 tsp turmeric', '1 tsp ground cumin', 'small bunch coriander , finely chopped (optional)', 'oil , for shallow frying', '150g natural yogurt', '1 garlic clove , crushed', '75g vegetarian feta , mashed', '2 tbsp finely chopped mint', 'pitta breads and salad, to serve', '1 cauliflower , split into florets, the stalk cut into cubes', '½ large butternut squash , cut into cubes', '1 tbsp oil']\", \"['430g toor dhal or red split lentils', '½ tsp turmeric', '2 large tomatoes, chopped (better if you remove the skin but not essential)', '5cm piece ginger, peeled and grated', '2 garlic cloves, crushed or grated', '2 green chillies, chopped (deseeded if you don’t like it very hot)', '2 tbsp tamarind paste', '1 tsp hot chilli powder', '2 tsp ground coriander', '2 tbsp oil or ghee (or a mixture of oil and unsalted butter)', '½ tsp cumin seeds', '8 garlic cloves, sliced', '3 dried chillies (I use Kashmiri), roughly broken', '12 curry leaves, fresh or frozen (optional)']\", \"['2 large eggs', '1 lemon , juiced', '1 tbsp tahini', '1 tbsp rapeseed oil', '1 red onion , chopped', '3 large garlic cloves , finely chopped', '1 tsp ground cumin', '½ tsp cumin seeds', '400g can borlotti or fava beans , juice reserved', '2 Little Gem lettuces cut into wedges', '2 tomatoes , cut into wedges', 'sprinkling of dried chilli flakes and roughly chopped flat-leaf parsley, optional']\", \"['1 lime , zested and juiced', '1 small mango , stoned, peeled and chopped', '1 small avocado , stoned, peeled and chopped', '100g cherry tomatoes , halved', '1 red chilli , deseeded and chopped', '1 red onion , chopped', '½ small pack coriander , chopped', '400g can black beans , drained and rinsed']\", \"['75g bulghar wheat', '1 tbsp rapeseed oil', '2 onions , chopped', '4 garlic cloves , chopped', '2 carrots , coarsely grated', '1 large red chilli , deseeded and finely chopped', '1 tsp cumin seeds', '1 tbsp ground coriander', '30g pack coriander , stalks and leaves chopped but kept separate', '1 lime , zested, 1/2 juiced, 1/2 cut into 4 wedges', '2 x cans chickpeas , drained', '2 large eggs', '2 tbsp white miso paste', '½ small white cabbage , shredded', '1 red onion , halved and thinly sliced', '2 carrots , shredded (ideally with a julienne peeler)', '1 pomegranate seeds only', '2 tbsp chopped mint', '1 tbsp cider vinegar', '1 tbsp extra virgin rapeseed oil']\", \"['2 large flat mushrooms (about 85g each), stalks removed and chopped', 'rapeseed oil , for brushing', '½ garlic clove , grated (optional)', 'a few thyme leaves', '2 tomatoes , halved', '2 large eggs', '2 handfuls rocket']\", '[\"75g young broad beans (use frozen if you can\\'t get fresh)\", \\'2 x 100g pack asparagus tips\\', \"170g peas (use frozen if you can\\'t get fresh)\", \\'350g spaghetti or tagliatelle\\', \\'175g pack baby leeks , trimmed and sliced\\', \\'1 tbsp olive oil , plus extra to serve\\', \\'1 tbsp butter\\', \\'200ml tub fromage frais or creme fraiche\\', \\'handful fresh chopped herbs (we used mint, parsley and chives)\\', \\'parmesan (or vegetarian alternative), shaved, to serve\\']', \"['4 tomatoes, halved', '5 tbsp olive oil', '250g butternut squash, peeled and chopped into large chunks', '1 tbsp thyme leaves', '1 garlic clove, crushed', '1 onion, sliced', '2 x 400g cans chickpeas, drained', '1 bay leaf', '1 tbsp ground cumin', '1 tsp ground cinnamon', '½ tsp turmeric', '1 tbsp harissa', '1l vegetable stock', '100g feta, crumbled', '1 lemon, zested, then cut into wedges', '2 tsp fennel seeds', '1 tsp ground coriander', '200g cavolo nero, shredded', 'handful fresh coriander leaves, to serve']\", \"['1 bunch asparagus spears', '200g sprouting broccoli', '2 tbsp olive oil', '2 spring onions , finely sliced', '2 tsp cumin seeds', 'large pinch cayenne pepper , plus extra to serve', '4 ripe tomatoes , chopped', '1 small pack parsley , finely chopped', '50g shelled peas', '50g podded broad beans', '4 large eggs', '50g pea shoots', 'Greek yogurt and flatbreads, to serve']\", \"['6 tbsp olive oil', '1 tbsp garam masala', '2 x 400g cans chickpeas , drained and rinsed', '250g ready-to-eat mixed grain pouch', '250g frozen peas', '2 lemons , zested and juiced', 'large pack parsley , leaves roughly chopped', 'large pack mint , leaves roughly chopped', '250g radishes , roughly chopped', '1 cucumber , chopped', 'pomegranate seeds , to serve']\", \"['1 carrot , shredded or coarsely grated', '80g wedge red cabbage , finely shredded', '2 spring onions , thinly sliced', '1 courgette , shredded or coarsely grated', 'handful basil leaves', '5 green olives , pitted and halved', '½ tsp English mustard powder', '2 tsp extra virgin rapeseed oil', '1 tbsp cider vinegar', '1 large seeded tortilla']\", \"['2 tsp olive oil', '1 onion , chopped', '2 garlic cloves , crushed', '1 potato (approx 250g), cut into small cubes', '600ml vegetable stock', '120g bag mixed watercress, rocket and spinach salad', '150g pot natural yogurt', '20g pine nuts , toasted', 'chilli oil , to serve (optional)']\"]\n"
     ]
    }
   ],
   "source": [
    "# LISTS\n",
    "\n",
    "# veggies from Veg file\n",
    "# veg column\n",
    "veg_column = df_veg[\"Vegetables\"].tolist()\n",
    "\n",
    "# lower case applied\n",
    "for x in range(len(veg_column)):\n",
    "    veg_column[x] = veg_column[x].lower()\n",
    "#veg_column = [each_string.lower() for each_string in veg_column]\n",
    "print(\"This is the veg column\\n\", veg_column)\n",
    "#print(\"\\t\")\n",
    "\n",
    "# food from allergies file\n",
    "# food column\n",
    "food_column = df_all[\"Food\"].tolist()\n",
    "\n",
    "# lower case applied\n",
    "food_column = [each_string.lower() for each_string in food_column]\n",
    "#print(\"This is the food column \\n\" , food_column)\n",
    "#print(\"\\t\")\n",
    "\n",
    "# allergy column\n",
    "all_column = df_all[\"Allergy\"].tolist()\n",
    "print(type(all_column))\n",
    "\n",
    "# lower case applied\n",
    "all_column = [each_string.lower() for each_string in all_column]\n",
    "print(\"This is the allergy column \\n\", all_column)\n",
    "print(\"\\t\")\n",
    "\n",
    "# allergy list (no duplicates)\n",
    "all_list = []\n",
    "for x in all_column:\n",
    "    if x not in all_list:\n",
    "        all_list.append(x)\n",
    "for x in all_list:\n",
    "    x\n",
    "print(\"This is the allergy list \\n\", all_list)\n",
    "print(\"\\t\")\n",
    "\n",
    "# recipes titles \n",
    "title_column = df_rec['Title'].tolist()\n",
    "#print(\"This is the recipes titles list \\n\", title_column)\n",
    "#print(\"\\t\")\n",
    "\n",
    "# ingredients\n",
    "ing_column = df_rec['Ingredients'].tolist()\n",
    "print(\"This is the ingredients list \\n\", ing_column)\n"
   ]
  },
  {
   "cell_type": "code",
   "execution_count": 45,
   "metadata": {},
   "outputs": [
    {
     "name": "stdout",
     "output_type": "stream",
     "text": [
      "This is the recipe and ingredients dictionary \n",
      " {'Spinach, sweet potato & lentil dhal': \"['1 tbsp sesame oil', '1 red onion, finely chopped', '1 garlic clove, crushed', 'thumb-sized piece ginger, peeled and finely chopped', '1 red chilli, finely chopped', '1½ tsp ground turmeric', '1½ tsp ground cumin', '2 sweet potatoes (about 400g/14oz), cut into even chunks', '250g red split lentils', '600ml vegetable stock', '80g bag of spinach', '4 spring onions, sliced on the diagonal, to serve', '½ small pack of Thai basil, leaves torn, to serve']\", 'Sesame parsnip & wild rice tabbouleh': \"['500g (5 medium) parsnips , peeled and cut into thumb-sized pieces', '2 ½ tbsp cold pressed rapeseed oil', '1 tsp ground turmeric', '2 tsp ground coriander', '2 tbsp sesame seeds', '130g wild rice', '2 red onions , sliced', '2 tbsp white wine vinegar', '3 tbsp tahini', '1 small pack mint , leaves roughly chopped', '1 small pack coriander , roughly chopped', '2 tbsp pomegranate seeds']\", 'Charred cauliflower, lemon & caper orzo': \"['½ cauliflower , broken into florets, stalk chopped into cubes', '2 tsp olive oil', '100g orzo', '2 tsp capers , drained and rinsed', '1 small garlic clove , sliced', '½ lemon , zested and juiced', '100ml low-salt vegetable stock (check it’s vegan, if required)', 'handful of rocket leaves , to serve']\", 'Veggie yaki udon': \"['1½ tbsp sesame oil', '1 red onion , cut into thin wedges', '160g mangetout', '70g baby corn , halved', '2 baby pak choi , quartered', '3 spring onions , sliced', '1 large garlic clove , crushed', '½ tbsp mild curry powder', '4 tsp low-salt soy sauce', '300g ready-to-cook udon noodles', '1 tbsp pickled sushi ginger , chopped, plus 2 tbsp of the brine']\", 'Roasted red pepper & tomato soup with ricotta': \"['400g tomatoes , halved', '1 red onion , quartered', '2 Romano peppers , roughly chopped', '2 tbsp good quality olive oil', '2 garlic cloves , bashed in their skins', 'few thyme sprigs', '1 tbsp red wine vinegar', '2 tbsp ricotta', 'few basil leaves', '1 tbsp mixed seeds , toasted', 'bread , to serve']\", 'Veggie okonomiyaki': \"['3 large eggs', '50g plain flour', '50ml milk', '4 spring onions , trimmed and sliced', '1 pak choi , sliced', '200g Savoy cabbage , shredded', '1 red chilli , deseeded and finely chopped, plus extra to serve', '½ tbsp low-salt soy sauce', '½ tbsp rapeseed oil', '1 heaped tbsp low-fat mayonnaise', '½ lime , juiced', 'sushi ginger , to serve (optional)', 'wasabi , to serve (optional)']\", 'Spicy ‘vedgeree’': \"['350g long grain brown rice', '150g green beans , trimmed and halved', '4 medium eggs', '2 tbsp olive oil', '2 onions , sliced', '2 garlic cloves , crushed', '2 heaped tbsp medium curry powder', '1 tsp ground turmeric', '2 bay leaves', '200g spinach', '100g cherry tomatoes , halved', '½ small bunch coriander , chopped', '1 green chilli , sliced', '1 lemon , cut into wedges']\", 'Artichoke & aubergine rice': \"['60ml olive oil', '2 aubergines , cut into chunks', '1 large onion , finely chopped', '2 garlic cloves , crushed', 'small pack parsley , leaves picked, stalks finely chopped', '2 tsp smoked paprika', '2 tsp turmeric', '400g paella rice', '1 ½l Kallo vegetable stock', '2 x 175g packs chargrilled artichokes', '2 lemons 1 juiced, 1 cut into wedges to serve']\", 'Creamy tomato risotto': \"['400g can chopped tomato', '1l vegetable stock', 'knob of butter', '1 tbsp olive oil', '1 onion, finely chopped', '2 garlic cloves, finely chopped', '1 rosemary sprig, finely chopped', '250g risotto rice', '300g cherry tomato, halved', 'small pack basil, roughly torn', '4 tbsp grated parmesan']\", 'Italian borlotti bean, pumpkin & farro soup': \"['4 tbsp extra virgin olive oil , plus extra to serve', '1 onion , finely chopped', '1 celery stick , cut into chunks', '750g pumpkin or squash, peeled, deseeded and cut into small chunks', '1 carrot , peeled and cut into chunks', '3 garlic cloves , chopped', '3 tbsp tomato purée', '1.2l chicken stock or vegetable stock', '75g farro or mixed grains (such as barley or spelt)', '50-80g parmesan rinds or vegetarian alternative (optional), plus a few shavings to serve', '400g can borlotti beans , drained', '2 handfuls baby spinach', '2 tbsp chopped parsley or 8 whole sage leaves']\", 'Linguine with avocado, tomato & lime': \"['115g wholemeal linguine', '1 lime, zested and juiced', '1 avocado, stoned, peeled, and chopped', '2 large ripe tomatoes, chopped', '½ pack fresh coriander, chopped', '1 red onion, finely chopped', '1 red chilli, deseeded and finely chopped (optional)']\", 'Double bean & roasted pepper chilli': \"['2 onions, chopped', '2 celery sticks, finely chopped', '2 yellow or orange peppers, finely chopped', '2 tbsp sunflower oil or rapeseed oil', '2 x 460g jars roasted red peppers', '2 tsp chipotle paste', '2 tbsp red wine vinegar', '1 tbsp cocoa powder', '1 tbsp dried oregano', '1 tbsp sweet smoked paprika', '2 tbsp ground cumin', '1 tsp ground cinnamon', '2 x 400g cans chopped tomatoes', '400g can refried beans', '3 x 400g cans kidney beans, drained and rinsed', '2 x 400g cans black beans, drained and rinsed']\", 'Cauliflower & squash fritters with mint & feta dip': \"['100g gram (chickpea) flour', '1 tsp turmeric', '1 tsp ground cumin', 'small bunch coriander , finely chopped (optional)', 'oil , for shallow frying', '150g natural yogurt', '1 garlic clove , crushed', '75g vegetarian feta , mashed', '2 tbsp finely chopped mint', 'pitta breads and salad, to serve', '1 cauliflower , split into florets, the stalk cut into cubes', '½ large butternut squash , cut into cubes', '1 tbsp oil']\", 'Khatti dhal': \"['430g toor dhal or red split lentils', '½ tsp turmeric', '2 large tomatoes, chopped (better if you remove the skin but not essential)', '5cm piece ginger, peeled and grated', '2 garlic cloves, crushed or grated', '2 green chillies, chopped (deseeded if you don’t like it very hot)', '2 tbsp tamarind paste', '1 tsp hot chilli powder', '2 tsp ground coriander', '2 tbsp oil or ghee (or a mixture of oil and unsalted butter)', '½ tsp cumin seeds', '8 garlic cloves, sliced', '3 dried chillies (I use Kashmiri), roughly broken', '12 curry leaves, fresh or frozen (optional)']\", 'Egyptian egg salad': \"['2 large eggs', '1 lemon , juiced', '1 tbsp tahini', '1 tbsp rapeseed oil', '1 red onion , chopped', '3 large garlic cloves , finely chopped', '1 tsp ground cumin', '½ tsp cumin seeds', '400g can borlotti or fava beans , juice reserved', '2 Little Gem lettuces cut into wedges', '2 tomatoes , cut into wedges', 'sprinkling of dried chilli flakes and roughly chopped flat-leaf parsley, optional']\", 'Guacamole & mango salad with black beans': \"['1 lime , zested and juiced', '1 small mango , stoned, peeled and chopped', '1 small avocado , stoned, peeled and chopped', '100g cherry tomatoes , halved', '1 red chilli , deseeded and chopped', '1 red onion , chopped', '½ small pack coriander , chopped', '400g can black beans , drained and rinsed']\", 'Miso burgers with mint & pomegranate slaw': \"['75g bulghar wheat', '1 tbsp rapeseed oil', '2 onions , chopped', '4 garlic cloves , chopped', '2 carrots , coarsely grated', '1 large red chilli , deseeded and finely chopped', '1 tsp cumin seeds', '1 tbsp ground coriander', '30g pack coriander , stalks and leaves chopped but kept separate', '1 lime , zested, 1/2 juiced, 1/2 cut into 4 wedges', '2 x cans chickpeas , drained', '2 large eggs', '2 tbsp white miso paste', '½ small white cabbage , shredded', '1 red onion , halved and thinly sliced', '2 carrots , shredded (ideally with a julienne peeler)', '1 pomegranate seeds only', '2 tbsp chopped mint', '1 tbsp cider vinegar', '1 tbsp extra virgin rapeseed oil']\", 'Mushroom baked eggs with squished tomatoes': \"['2 large flat mushrooms (about 85g each), stalks removed and chopped', 'rapeseed oil , for brushing', '½ garlic clove , grated (optional)', 'a few thyme leaves', '2 tomatoes , halved', '2 large eggs', '2 handfuls rocket']\", 'Healthy pasta primavera': '[\"75g young broad beans (use frozen if you can\\'t get fresh)\", \\'2 x 100g pack asparagus tips\\', \"170g peas (use frozen if you can\\'t get fresh)\", \\'350g spaghetti or tagliatelle\\', \\'175g pack baby leeks , trimmed and sliced\\', \\'1 tbsp olive oil , plus extra to serve\\', \\'1 tbsp butter\\', \\'200ml tub fromage frais or creme fraiche\\', \\'handful fresh chopped herbs (we used mint, parsley and chives)\\', \\'parmesan (or vegetarian alternative), shaved, to serve\\']', 'Moroccan chickpea, squash & cavolo nero stew': \"['4 tomatoes, halved', '5 tbsp olive oil', '250g butternut squash, peeled and chopped into large chunks', '1 tbsp thyme leaves', '1 garlic clove, crushed', '1 onion, sliced', '2 x 400g cans chickpeas, drained', '1 bay leaf', '1 tbsp ground cumin', '1 tsp ground cinnamon', '½ tsp turmeric', '1 tbsp harissa', '1l vegetable stock', '100g feta, crumbled', '1 lemon, zested, then cut into wedges', '2 tsp fennel seeds', '1 tsp ground coriander', '200g cavolo nero, shredded', 'handful fresh coriander leaves, to serve']\", 'Pea & broad bean shakshuka': \"['1 bunch asparagus spears', '200g sprouting broccoli', '2 tbsp olive oil', '2 spring onions , finely sliced', '2 tsp cumin seeds', 'large pinch cayenne pepper , plus extra to serve', '4 ripe tomatoes , chopped', '1 small pack parsley , finely chopped', '50g shelled peas', '50g podded broad beans', '4 large eggs', '50g pea shoots', 'Greek yogurt and flatbreads, to serve']\", 'Spring tabbouleh': \"['6 tbsp olive oil', '1 tbsp garam masala', '2 x 400g cans chickpeas , drained and rinsed', '250g ready-to-eat mixed grain pouch', '250g frozen peas', '2 lemons , zested and juiced', 'large pack parsley , leaves roughly chopped', 'large pack mint , leaves roughly chopped', '250g radishes , roughly chopped', '1 cucumber , chopped', 'pomegranate seeds , to serve']\", 'Veggie olive wraps with mustard vinaigrette': \"['1 carrot , shredded or coarsely grated', '80g wedge red cabbage , finely shredded', '2 spring onions , thinly sliced', '1 courgette , shredded or coarsely grated', 'handful basil leaves', '5 green olives , pitted and halved', '½ tsp English mustard powder', '2 tsp extra virgin rapeseed oil', '1 tbsp cider vinegar', '1 large seeded tortilla']\", 'Supergreen soup with yogurt & pine nuts': \"['2 tsp olive oil', '1 onion , chopped', '2 garlic cloves , crushed', '1 potato (approx 250g), cut into small cubes', '600ml vegetable stock', '120g bag mixed watercress, rocket and spinach salad', '150g pot natural yogurt', '20g pine nuts , toasted', 'chilli oil , to serve (optional)']\"}\n"
     ]
    }
   ],
   "source": [
    "# DICTIONARIES\n",
    "# dictionary food - allergy type\n",
    "zip_iterator_FA = zip(food_column, all_column)\n",
    "food_all_dict = dict(zip_iterator_FA)\n",
    "#print(\"This is the food and allergens dictionary \\n\", food_all_dict)\n",
    "\n",
    "# dictionary recipe - ingredients\n",
    "zip_iterator_RI = zip(title_column, ing_column)\n",
    "rec_ing_dict = dict(zip_iterator_RI)\n",
    "print(\"This is the recipe and ingredients dictionary \\n\", rec_ing_dict)"
   ]
  },
  {
   "cell_type": "code",
   "execution_count": 121,
   "metadata": {},
   "outputs": [
    {
     "name": "stdout",
     "output_type": "stream",
     "text": [
      "Enter 3 veggies: \n",
      "1 spinach\n",
      "2 cucumber\n",
      "3 x\n",
      "You've entered:  ['spinach', 'cucumber', 'x']\n",
      "veg:  spinach\n",
      "Got it\n",
      "veg:  cucumber\n",
      "Got it\n",
      "veg:  x\n",
      "we don't have it\n",
      "Here's what we have ['spinach', 'cucumber']\n"
     ]
    }
   ],
   "source": [
    "print(\"Enter 3 veggies: \")\n",
    "mylist = []\n",
    "mybasket = []\n",
    "for x in range(1,4):\n",
    "    basket = input(\"%d \" % x)\n",
    "    mylist.append(basket.lower())\n",
    "print(\"You've entered: \", mylist)\n",
    "for veg in mylist:\n",
    "    print(\"veg: \", veg)\n",
    "    if veg in veg_column:\n",
    "        print(\"Got it\")\n",
    "        mybasket.append(veg)\n",
    "    else:\n",
    "        print(\"we don't have it\")\n",
    "print(\"Here's what we have\", mybasket)"
   ]
  },
  {
   "cell_type": "code",
   "execution_count": 122,
   "metadata": {},
   "outputs": [
    {
     "name": "stdout",
     "output_type": "stream",
     "text": [
      "spinach grams 1\n",
      "cucumber grams 1\n",
      "{'spinach': '1', 'cucumber': '1'}\n"
     ]
    }
   ],
   "source": [
    "# add quantity to my veg list\n",
    "veg_quantity = {}\n",
    "\n",
    "# For every vegetable...\n",
    "for x in mybasket:\n",
    "    \n",
    "    # Ask for the quantity, until it's correct\n",
    "    while True:\n",
    "        # Quantity?\n",
    "        quantity = input(\"%s grams \" % x)\n",
    "        \n",
    "        # Is it an integer?\n",
    "        try:\n",
    "            int(quantity)\n",
    "            break\n",
    "        # No...\n",
    "        except ValueError:\n",
    "            \n",
    "            # Is it a float?\n",
    "            try:\n",
    "                float(quantity)\n",
    "                break\n",
    "                \n",
    "            # No...\n",
    "            except ValueError:\n",
    "                print(\"Please, use numbers in grams only\")\n",
    "    \n",
    "    # If it's valid, add it\n",
    "    veg_quantity[x] = quantity\n",
    "\n",
    "print(veg_quantity)"
   ]
  },
  {
   "cell_type": "code",
   "execution_count": 51,
   "metadata": {},
   "outputs": [
    {
     "name": "stderr",
     "output_type": "stream",
     "text": [
      "[nltk_data] Downloading package wordnet to\n",
      "[nltk_data]     C:\\Users\\asus\\AppData\\Roaming\\nltk_data...\n",
      "[nltk_data]   Package wordnet is already up-to-date!\n"
     ]
    }
   ],
   "source": [
    "# NLP\n",
    "# stemming\n",
    "#from nltk.stem import PorterStemmer\n",
    "#from nltk.tokenize import word_tokenize\n",
    "#ps = PorterStemmer()\n",
    "\n",
    "# lemmatising\n",
    "import nltk\n",
    "nltk.download('wordnet')\n",
    "from nltk.stem import WordNetLemmatizer\n",
    "lemmatizer = WordNetLemmatizer()"
   ]
  },
  {
   "cell_type": "code",
   "execution_count": 52,
   "metadata": {},
   "outputs": [
    {
     "name": "stdout",
     "output_type": "stream",
     "text": [
      "Any allergies or intolerances? Please enter them here or leave it blank. \n",
      "Please, specify if you have allergy or intolerance for generic terms \n",
      "(e.g. 'nut allergy', 'gluten allergy', but not for 'strawberry' or 'strawberries'): \n",
      "\n"
     ]
    }
   ],
   "source": [
    "print(\"Any allergies or intolerances? Please enter them here or leave it blank. \\nPlease, specify if you have allergy or intolerance for generic terms \\n(e.g. 'nut allergy', 'gluten allergy', but not for 'strawberry' or 'strawberries'): \")\n",
    "\n",
    "# add allergies in the list\n",
    "myallergies = []\n",
    "\n",
    "# empty basket to break\n",
    "basket = \" \"\n",
    "\n",
    "# indefinite iteration over not empty basket\n",
    "while basket != \"\":\n",
    "    \n",
    "    # over input\n",
    "    basket = input()\n",
    "    \n",
    "    # if input = num\n",
    "    if basket.isnumeric() == True:\n",
    "        \n",
    "        # then print you don't want num \n",
    "        print(\"No numbers, please\")\n",
    "        \n",
    "    # otherwise if it's a word \n",
    "    elif basket.isnumeric() == False: \n",
    "        \n",
    "        # and the basket is not empty\n",
    "        if basket != \"\":\n",
    "            \n",
    "            # append allergies to my list\n",
    "            myallergies.append(basket)\n",
    "\n",
    "# empty list for singular words            \n",
    "sing = []\n",
    "\n",
    "# for all the user inputs\n",
    "for w in myallergies:\n",
    "    \n",
    "    # append lemmatised words\n",
    "    sing.append(lemmatizer.lemmatize(w))\n",
    "\n",
    "#check if user inputs are in my dict\n",
    "for al in sing:\n",
    "    if al in food_all_dict.keys() or al in food_all_dict.values():\n",
    "        print(\"You said: \", al)\n",
    "    else:\n",
    "        print(al, \", got it, I will update my database\")\n",
    "    "
   ]
  },
  {
   "cell_type": "code",
   "execution_count": 108,
   "metadata": {},
   "outputs": [
    {
     "name": "stdout",
     "output_type": "stream",
     "text": [
      "Found a match ['spinach', 'spinach', 'spinach', 'spinach', 'spinach', 'spinach', 'spinach', 'spinach', 'spinach', 'spinach', 'spinach', 'spinach', 'spinach', 'spinach', 'spinach', 'spinach', 'spinach', 'spinach', 'spinach', 'spinach', 'spinach', 'spinach', 'spinach', 'spinach']\n"
     ]
    }
   ],
   "source": [
    "matchlist = []\n",
    "match = False\n",
    "for item in ing_column:\n",
    "    #print(item)\n",
    "    for i in mybasket:\n",
    "        #print(i)\n",
    "        if item in ing_column:\n",
    "            match = True\n",
    "            matchlist.append(i)\n",
    "if match:\n",
    "    print(\"Found a match\", matchlist)\n",
    "else:\n",
    "    print(\"No match\")"
   ]
  },
  {
   "cell_type": "code",
   "execution_count": 123,
   "metadata": {},
   "outputs": [
    {
     "name": "stdout",
     "output_type": "stream",
     "text": [
      "['spinach', 'cucumber']\n",
      "Yes, there is at least one match!\n"
     ]
    }
   ],
   "source": [
    "import re\n",
    "\n",
    "print(mybasket)\n",
    "for x in mybasket:\n",
    "    re.findall(\"spinach\", x)\n",
    "\n",
    "if x:\n",
    "  print(\"Yes, there is at least one match!\")\n",
    "else:\n",
    "  print(\"No match\")"
   ]
  },
  {
   "cell_type": "code",
   "execution_count": null,
   "metadata": {},
   "outputs": [],
   "source": []
  }
 ],
 "metadata": {
  "kernelspec": {
   "display_name": "Python 3",
   "language": "python",
   "name": "python3"
  },
  "language_info": {
   "codemirror_mode": {
    "name": "ipython",
    "version": 3
   },
   "file_extension": ".py",
   "mimetype": "text/x-python",
   "name": "python",
   "nbconvert_exporter": "python",
   "pygments_lexer": "ipython3",
   "version": "3.7.6"
  }
 },
 "nbformat": 4,
 "nbformat_minor": 4
}
