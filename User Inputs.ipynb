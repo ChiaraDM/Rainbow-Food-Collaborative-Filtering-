{
 "cells": [
  {
   "cell_type": "code",
   "execution_count": 9,
   "metadata": {},
   "outputs": [
    {
     "name": "stdout",
     "output_type": "stream",
     "text": [
      "0              Acai\n",
      "1         Artichoke\n",
      "2           Arugula\n",
      "3         Asparagus\n",
      "4         Aubergine\n",
      "          ...      \n",
      "65    Turnip Greens\n",
      "66          Turnips\n",
      "67           Wasabi\n",
      "68    Winter Squash\n",
      "69         Zucchini\n",
      "Name: Vegetables, Length: 70, dtype: object\n",
      "0                Nut and seed\n",
      "1                       Fruit\n",
      "2                       Fruit\n",
      "3                   Vegetable\n",
      "4                   Vegetable\n",
      "                ...          \n",
      "179    Cereal grain and pulse\n",
      "180                     Dairy\n",
      "181    Cereal grain and pulse\n",
      "182                 Vegetable\n",
      "183                     Dairy\n",
      "Name: Type, Length: 184, dtype: object\n",
      "TYPE:  <class 'pandas.core.series.Series'>\n",
      "0          Almond\n",
      "1           Apple\n",
      "2         Apricot\n",
      "3       Artichoke\n",
      "4       Asparagus\n",
      "          ...    \n",
      "179         Wheat\n",
      "180          Whey\n",
      "181    White bean\n",
      "182           Yam\n",
      "183       Yogurt \n",
      "Name: Food, Length: 184, dtype: object\n",
      "FOOD:  <class 'pandas.core.series.Series'>\n",
      "0                             Nut Allergy\n",
      "1                   Oral Allergy Syndrome\n",
      "2                     Stone Fruit Allergy\n",
      "3                         Insulin Allergy\n",
      "4                          Allium Allergy\n",
      "                      ...                \n",
      "179                        Gluten Allergy\n",
      "180    Milk allergy / Lactose intolerance\n",
      "181                        Legume Allergy\n",
      "182                        Potato Allergy\n",
      "183    Milk allergy / Lactose intolerance\n",
      "Name: Allergy, Length: 184, dtype: object\n",
      "ALLERGY:  <class 'pandas.core.series.Series'>\n"
     ]
    }
   ],
   "source": [
    "import os\n",
    "os.chdir('C:\\\\Users\\\\asus\\\\OneDrive\\\\Documenti\\\\University Docs\\\\MSc Computing\\\\Final Project')\n",
    "\n",
    "import pandas as pd\n",
    "\n",
    "# vegetables file\n",
    "col_list_veg = [\"Vegetables\", \"Serving\", \"Calories\"]\n",
    "df_veg = pd.read_csv(\"Vegetables.csv\", usecols = col_list_veg)\n",
    "print(df_veg[\"Vegetables\"])\n",
    "type(df_veg[\"Vegetables\"])\n",
    "\n",
    "# allergies file\n",
    "col_list_all = [\"Class\", \"Type\", \"Group\", \"Food\", \"Allergy\"]\n",
    "df_all = pd.read_csv(\"FoodAllergies.csv\", usecols = col_list_all)\n",
    "print(df_all[\"Type\"])\n",
    "print(\"TYPE: \", type(df_all[\"Type\"]))\n",
    "print(df_all[\"Food\"])\n",
    "print(\"FOOD: \", type(df_all[\"Food\"]))\n",
    "print(df_all[\"Allergy\"])\n",
    "print(\"ALLERGY: \", type(df_all[\"Allergy\"]))"
   ]
  },
  {
   "cell_type": "code",
   "execution_count": 19,
   "metadata": {},
   "outputs": [
    {
     "name": "stdout",
     "output_type": "stream",
     "text": [
      "<class 'list'>\n",
      "This is the veg column\n",
      " ['Acai', 'Artichoke', 'Arugula', 'Asparagus', 'Aubergine', 'Avocado', 'Beetroot', 'Bell Pepper', 'Black Olives', 'Broccoli', 'Brussels Sprouts', 'Cabbage', 'Capsicum', 'Carrot', 'Cauliflower', 'celeriac', 'Celery', 'Chard', 'Cherry Tomato', 'chickpeas', 'Chicory', 'Chinese Cabbage', 'Chives', 'coleslaw', 'Collard Greens', 'Corn', 'Courgette', 'Creamed Spinach', 'Cucumber', 'Eggplant', 'Endive', 'Fennel', 'Garlic', 'Gherkin', 'Gourd', 'Green Beans', 'Green Olives', 'Green Onion', 'Horseradish', 'Kale', 'Kohlrabi', 'Kumara', 'Leek', 'Lettuce', 'Mushrooms', 'Mustard Greens', 'Nori', 'Okra', 'Olives', 'Onion', 'pak choy', 'Parsnips', 'Peas', 'Pepper', 'Potato', 'Pumpkin', 'Radishes', 'Red Cabbage', 'Rutabaga', 'Shallots', 'Spinach', 'Squash', 'Swede', 'Sweet Potato', 'Tomato', 'Turnip Greens', 'Turnips', 'Wasabi', 'Winter Squash', 'Zucchini']\n",
      "\t\n",
      "This is the food column \n",
      " ['Almond', 'Apple', 'Apricot', 'Artichoke', 'Asparagus', 'Avocado', 'Bamboo shoot', 'Banana', 'Barley', 'Bean', 'Blackberry', 'Black-eyed bean', 'Blueberry', 'Bonito', 'Broad bean', 'Broccoli', 'Brussels sprouts', 'Buckwheat', 'Burdock', 'Butter', 'Butter bean', 'Buttermilk', 'Button mushroom', 'Cabbage', 'Cacao bean', 'Canola oil', 'Carrot', 'Casein', 'Cattle', 'Cauliflower', 'Celery', 'Cheese', 'Cherry', 'Chestnut', 'Chicken', 'Chicory', 'Chinese cabbage', 'Coconut oil', 'Coffee bean', 'Corn', 'Corn oil', 'Cotton seed', 'Cranberry', 'Cream', 'Crustaceans', 'Cucumber ', 'Custard', 'Date', 'Deer', 'Duck', 'Eel', 'Egg plant', 'Eggs', 'Endive', 'Fructose', 'Garlic', 'Ghrkin', 'Ginger', 'Ginkgo nut', 'Globfish', 'Glucose', 'Goat', 'Grape', 'Grapefruit', 'Grapeseed oil', 'Green soybean', 'Groundnut oil', 'Guava', 'Honey', 'Hop', 'Horse', 'Horse Mackerel', 'Horseradish', 'Huckleberry', 'Ice cream', 'Japanese pear', 'Japanese persimmon', 'Japanese plum', 'Kale', 'Kidney bean', 'Kiwi', 'Konjac', 'Kyona', 'Lactose', 'Leek', 'Lemon', 'Lentil', 'Lettuce ', 'Lima bean', 'Lime', 'Loquat', 'Mackerel', 'Makuwauri  melon', 'Mango', 'Melons', 'Milk', 'Mineral water', 'Mitsuba', 'Mume plum', 'Mustard oil', 'Mustard Spinach', 'Nectarine', 'Nira', 'Okra', 'Olive oil', 'Onion', 'Orange', 'Orange pulp', 'Papaya', 'Parsley', 'Parsnip', 'Passion fruit', 'Peach', 'Peanut', 'Pear', 'Peas', 'Peas', 'Pecan', 'Pegia', 'Peppermint', 'Percifomes', 'Pig', 'Pineapple', 'Popcorn', 'Potato', 'Prune', 'Pumpkin', 'Qing-geng-cai', 'Quince', 'Radish leaf', 'Radish root', 'Rapeseed', 'Raspberry', 'Rice', 'Ricebran oil', 'Royal Jelly', 'Rye', 'Safflower seed', 'Salmon', 'Salsify', 'Sansho', 'Sea Bass', 'Sea Bream', 'Sesame seed', 'Shallot', 'Sheep', 'Shelled mollusc', 'Shiitake  mushroom', 'Shungiku', 'Sour cream', 'Soybean', 'Spearmint', 'Spinach', 'Squash', 'Strawberry', 'Sugar', 'Sugar beet', 'Sugarcane', 'Sultani', 'Sultapya', 'Sunflower oil', 'Sunflower seed', 'Sweet corn', 'Sweet Pepper', 'Sweet potato', 'Taro', 'Tea', 'Tetraodontiformes', 'Tomato', 'Trout', 'Tuna', 'Turkey', 'Turnip leaf', 'Turnip root', 'Vegetable oil', 'Walnut', 'Water melon', 'Watercress', 'Welsh', 'Wheat', 'Whey', 'White bean', 'Yam', 'Yogurt ']\n",
      "\t\n",
      "This is the allergy column \n",
      " ['Nut Allergy', 'Oral Allergy Syndrome', 'Stone Fruit Allergy', 'Insulin Allergy', 'Allium Allergy', 'Oral Allergy Syndrome', 'Histamine Allergy', 'Banana Allergy', 'Gluten Allergy', 'Legume Allergy', 'Salicylate Allergy', 'Legume Allergy', 'Salicylate Allergy', 'Histamine Allergy', 'Legume Allergy', 'Broccoli allergy', 'Cruciferous Allergy', 'Gluten Allergy', 'Ragweed Allergy', 'Milk allergy / Lactose intolerance', 'Legume Allergy', 'Milk allergy / Lactose intolerance', 'Mushroom Allergy', 'Cruciferous Allergy', nan, nan, 'Hypersensitivity', 'Milk allergy / Lactose intolerance', 'Alpha-gal Syndrome', 'Cruciferous Allergy', 'Hypersensitivity', 'Milk allergy / Lactose intolerance', 'Stone Fruit Allergy', 'Nut Allergy', 'Poultry Allergy', 'Insulin Allergy', 'Cruciferous Allergy', nan, 'Ochratoxin Allergy', 'Corn Allergy', nan, 'Seed Allergy', 'Salicylate Allergy', 'Milk allergy / Lactose intolerance', 'Shellfish Allergy', nan, 'Milk allergy / Lactose intolerance', 'Oral Allergy Syndrome', 'Alpha-gal Syndrome', 'Poultry Allergy', 'Fish Allergy', 'Nightshade Allergy', 'Poultry Allergy', 'Insulin Allergy', 'Sugar Allergy / Intolerance', 'Allium Allergy', nan, 'Histamine Allergy', 'Nut Allergy', 'Fish Allergy', 'Sugar Allergy / Intolerance', 'Alpha-gal Syndrome', 'LTP Allergy', 'Citrus Allergy', nan, 'Legume Allergy', nan, 'Oral Allergy Syndrome', 'Honey Allergy', 'Beer Allergy', 'Alpha-gal Syndrome', 'Fish Allergy', 'Cruciferous Allergy', 'Salicylate Allergy', 'Milk allergy / Lactose intolerance', 'Oral Allergy Syndrome', nan, 'Stone Fruit Allergy', 'Cruciferous Allergy', 'Legume Allergy', 'Oral Allergy Syndrome', 'Potato Allergy', 'Cruciferous Allergy', 'Lactose Intolerance', 'Allium Allergy', 'Citrus Allergy', 'Legume Allergy', 'LTP Allergy', 'Legume Allergy', 'Citrus Allergy', 'Oral Allergy Syndrome', 'Fish Allergy', nan, 'Oral Allergy Syndrome', nan, 'Milk allergy / Lactose intolerance', 'Aquagenic Urticaria', 'Hypersensitivity', 'Stone Fruit Allergy', nan, 'Cruciferous Allergy', 'Stone Fruit Allergy', 'Allium Allergy', 'Histamine Allergy', nan, 'Allium Allergy', 'Citrus Allergy', 'Citrus Allergy', 'Oral Allergy Syndrome', 'Hypersensitivity', 'Hypersensitivity', 'Oral Allergy Syndrome', 'Stone Fruit Allergy', 'Peanut Allergy', 'Oral Allergy Syndrome', 'Legume Allergy', 'Legume Allergy', 'Nut Allergy', 'Legume Allergy', 'Mint Allergy', 'Fish Allergy', 'Alpha-gal Syndrome', 'Oral Allergy Syndrome', 'Corn Allergy', 'Potato Allergy', 'Stone Fruit Allergy', nan, 'Cruciferous Allergy', 'Oral Allergy Syndrome', nan, 'Hypersensitivity', 'Seed Allergy', 'Salicylate Allergy', 'Rice Allergy', nan, 'Honey Allergy', 'Gluten Allergy', 'Seed Allergy', 'Fish Allergy', 'Insulin Allergy', 'Pepper Allergy', 'Fish Allergy', 'Fish Allergy', 'Seed Allergy', 'Allium Allergy', 'Alpha-gal Syndrome', 'Fish Allergy', 'Mushroom Allergy', 'Insulin Allergy', 'Milk allergy / Lactose intolerance', 'Soy Allergy', 'Mint Allergy', 'Histamine Allergy', nan, 'Salicylate Allergy', 'Sugar Allergy / Intolerance', 'Sugar Allergy / Intolerance', 'Sugar Allergy / Intolerance', 'Legume Allergy', 'Legume Allergy', nan, 'Seed Allergy', 'Corn Allergy', 'Nightshade Allergy', 'Potato Allergy', 'Potato Allergy', 'Tannin Allergy', 'Fish Allergy', 'Nightshade Allergy', 'Fish Allergy', 'Fish Allergy', 'Poultry Allergy', nan, 'Thyroid', nan, 'Nut Allergy', nan, nan, 'Allium Allergy', 'Gluten Allergy', 'Milk allergy / Lactose intolerance', 'Legume Allergy', 'Potato Allergy', 'Milk allergy / Lactose intolerance']\n"
     ]
    }
   ],
   "source": [
    "# LISTS\n",
    "\n",
    "# veggies from Veg file\n",
    "# veg column\n",
    "veg_column = df_veg[\"Vegetables\"].tolist()\n",
    "print(type(veg_column))\n",
    "print(\"This is the veg column\\n\", veg_column)\n",
    "print(\"\\t\")\n",
    "\n",
    "# food from allergies file\n",
    "# food column\n",
    "food_column = df_all[\"Food\"].tolist()\n",
    "print(\"This is the food column \\n\" , food_column)\n",
    "print(\"\\t\")\n",
    "\n",
    "# allergy column\n",
    "all_column = df_all[\"Allergy\"].tolist()\n",
    "print(\"This is the allergy column \\n\", all_column)"
   ]
  },
  {
   "cell_type": "code",
   "execution_count": 4,
   "metadata": {},
   "outputs": [
    {
     "name": "stdout",
     "output_type": "stream",
     "text": [
      "Enter 3 veggies: \n",
      "1 Olives\n",
      "2 Broccoli\n",
      "3 Brussels Sprouts\n",
      "You've entered:  ['Olives', 'Broccoli', 'Brussels Sprouts']\n",
      "veg:  Olives\n",
      "Got it\n",
      "veg:  Broccoli\n",
      "Got it\n",
      "veg:  Brussels Sprouts\n",
      "Got it\n"
     ]
    }
   ],
   "source": [
    "print(\"Enter 3 veggies: \")\n",
    "mylist = []\n",
    "for x in range(1,4):\n",
    "    basket = input(\"%d \" % x)\n",
    "    mylist.append(basket.title())\n",
    "print(\"You've entered: \", mylist)\n",
    "for veg in mylist:\n",
    "    print(\"veg: \", veg)\n",
    "    if veg in veg_column:\n",
    "        print(\"Got it\")\n",
    "    else:\n",
    "        print(\"we don't have it\")"
   ]
  },
  {
   "cell_type": "code",
   "execution_count": 5,
   "metadata": {},
   "outputs": [
    {
     "name": "stdout",
     "output_type": "stream",
     "text": [
      "Olives grams IDK\n",
      "Please, use numbers in grams only\n",
      "Olives grams 200\n",
      "Broccoli grams 300\n",
      "Brussels Sprouts grams 123.45\n",
      "{'Olives': '200', 'Broccoli': '300', 'Brussels Sprouts': '123.45'}\n"
     ]
    }
   ],
   "source": [
    "# add quantity to my veg list\n",
    "veg_quantity = {}\n",
    "\n",
    "# For every vegetable...\n",
    "for x in mylist:\n",
    "    \n",
    "    # Ask for the quantity, until it's correct\n",
    "    while True:\n",
    "        # Quantity?\n",
    "        quantity = input(\"%s grams \" % x)\n",
    "        \n",
    "        # Is it an integer?\n",
    "        try:\n",
    "            int(quantity)\n",
    "            break\n",
    "        # No...\n",
    "        except ValueError:\n",
    "            \n",
    "            # Is it a float?\n",
    "            try:\n",
    "                float(quantity)\n",
    "                break\n",
    "                \n",
    "            # No...\n",
    "            except ValueError:\n",
    "                print(\"Please, use numbers in grams only\")\n",
    "    \n",
    "    # If it's valid, add it\n",
    "    veg_quantity[x] = quantity\n",
    "\n",
    "print(veg_quantity)"
   ]
  },
  {
   "cell_type": "code",
   "execution_count": null,
   "metadata": {},
   "outputs": [],
   "source": []
  }
 ],
 "metadata": {
  "kernelspec": {
   "display_name": "Python 3",
   "language": "python",
   "name": "python3"
  },
  "language_info": {
   "codemirror_mode": {
    "name": "ipython",
    "version": 3
   },
   "file_extension": ".py",
   "mimetype": "text/x-python",
   "name": "python",
   "nbconvert_exporter": "python",
   "pygments_lexer": "ipython3",
   "version": "3.7.6"
  }
 },
 "nbformat": 4,
 "nbformat_minor": 4
}
